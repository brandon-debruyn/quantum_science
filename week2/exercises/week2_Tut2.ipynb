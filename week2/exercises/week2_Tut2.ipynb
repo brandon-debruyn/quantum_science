{
 "cells": [
  {
   "cell_type": "markdown",
   "metadata": {
    "cell_id": "00000-02bed928-a705-4cae-bf8a-f786a301963f",
    "deepnote_cell_type": "markdown",
    "tags": []
   },
   "source": [
    "# Week 2: Tutorial"
   ]
  },
  {
   "cell_type": "markdown",
   "metadata": {
    "cell_id": "00005-6a6f2e0a-4e96-4550-94f6-3ac347021b96",
    "deepnote_cell_type": "markdown",
    "tags": []
   },
   "source": [
    "## Exercise 1: Convert Decimal To Ten Bit Binary String\n",
    "\n",
    "In this exercise we want to convert a decimal number to a binary string with exactly ten character bits. For example,\n",
    "\n",
    " $$ 1_{decimal} = 1_{binary} = 0000000001_{binary} $$ \n",
    "\n",
    " or\n",
    "\n",
    "  $$ 10_{decimal} = 1010_{binary} = 0000001010_{binary} $$\n",
    "\n",
    "Create code that converts a decimal to binary, `bin(decimal)`, removes the proceding `0b`, and adds in the required amount of 0s to make it a ten character string. If the binary has more than ten bits, slice the string so it contains only the last 10 bits. Prompt the user with the `input()` function for a decimal number.\n",
    "\n",
    "*Hint:* `bin(decimal)` *returns a string. Can use string manipulation, and a conditional to differentiate between strings with less than or more than ten bits.*"
   ]
  },
  {
   "cell_type": "code",
   "execution_count": 1,
   "metadata": {
    "cell_id": "00003-4a8133ee-2401-4047-928e-353954bc9b6a",
    "deepnote_cell_type": "code",
    "deepnote_to_be_reexecuted": false,
    "execution_millis": 5242,
    "execution_start": 1624624835893,
    "source_hash": "4ebce97f",
    "tags": []
   },
   "outputs": [
    {
     "name": "stdout",
     "output_type": "stream",
     "text": [
      "10 in decimal = 0000001010 in 10-bit binary\n"
     ]
    }
   ],
   "source": [
    "decimal = int(input(\"Enter a decimal number: \"))\n",
    "\n",
    "binary = bin(decimal)[2:]\n",
    "\n",
    "if len(binary) < 10:\n",
    "    binary_10bit = binary.zfill(10)\n",
    "else:\n",
    "    binary_10bit = binary[-10:]\n",
    "\n",
    "print(f\"{decimal} in decimal = {binary_10bit} in 10-bit binary\")"
   ]
  },
  {
   "cell_type": "markdown",
   "metadata": {
    "cell_id": "00004-0f967908-ea56-4c30-b3e7-8211a547ba95",
    "deepnote_cell_type": "markdown",
    "tags": []
   },
   "source": [
    "If we wanted to make the number of bits an arbitrary amount, rather than just 10, rewrite the code in such a way to accomplish this."
   ]
  },
  {
   "cell_type": "code",
   "execution_count": 2,
   "metadata": {
    "cell_id": "00005-e525407c-206f-4ca0-876e-06357963983c",
    "deepnote_cell_type": "code",
    "deepnote_to_be_reexecuted": false,
    "execution_millis": 11452,
    "execution_start": 1624625002859,
    "source_hash": "ffa7d701",
    "tags": []
   },
   "outputs": [
    {
     "name": "stdout",
     "output_type": "stream",
     "text": [
      "130 in decimal = 000000000000000000000010000010 in 30-bit binary\n"
     ]
    }
   ],
   "source": [
    "decimal = int(input(\"Enter a decimal number: \"))\n",
    "num_bits = int(input(\"Enter the number of bits: \"))\n",
    "\n",
    "binary = bin(decimal)[2:]\n",
    "if len(binary) < num_bits:\n",
    "    binary_nbits = binary.zfill(num_bits)\n",
    "else:\n",
    "    binary_nbits = binary[-num_bits:]\n",
    "\n",
    "print(f\"{decimal} in decimal = {binary_nbits} in {num_bits}-bit binary\")"
   ]
  },
  {
   "cell_type": "markdown",
   "metadata": {
    "cell_id": "00006-1b21ff2a-197f-41be-ad40-069aa19da779",
    "deepnote_cell_type": "markdown",
    "tags": []
   },
   "source": [
    "Given some arbitrary fixed number of bits, what is the largest decimal number you can represent with those bits? "
   ]
  },
  {
   "cell_type": "code",
   "execution_count": 5,
   "metadata": {
    "cell_id": "00007-bad1bbaf-511c-4e77-b962-e33024078e90",
    "deepnote_cell_type": "code",
    "deepnote_to_be_reexecuted": false,
    "execution_millis": 10,
    "execution_start": 1624624103570,
    "source_hash": "f551c0a",
    "tags": []
   },
   "outputs": [
    {
     "name": "stdout",
     "output_type": "stream",
     "text": [
      "Maximum decimal number with 2 bits: 3\n",
      "Binary representation: 11\n",
      "11 in binary = 3 in decimal\n"
     ]
    }
   ],
   "source": [
    "num_bits = int(input(\"Enter the number of bits: \"))\n",
    "max_decimal = 2**num_bits - 1\n",
    "\n",
    "print(f\"Maximum decimal number with {num_bits} bits: {max_decimal}\")\n",
    "max_binary = '1' * num_bits\n",
    "print(f\"Binary representation: {max_binary}\")\n",
    "\n",
    "print(f\"{max_binary} in binary = {int(max_binary, 2)} in decimal\")"
   ]
  },
  {
   "cell_type": "markdown",
   "metadata": {
    "cell_id": "00008-be83c5e7-f89f-4e23-acc3-fa520126e77c",
    "deepnote_cell_type": "markdown",
    "tags": []
   },
   "source": [
    "## Exercise 2: For Loops, Sequence Sum\n",
    "\n",
    "Prompt the user to input a positive integer number $n$. Calculate the sum $$1+2+3+...+n $$ using a for loop. Print the answer"
   ]
  },
  {
   "cell_type": "code",
   "execution_count": 6,
   "metadata": {},
   "outputs": [
    {
     "name": "stdout",
     "output_type": "stream",
     "text": [
      "Sum from 1 to 20 = 210\n"
     ]
    }
   ],
   "source": [
    "n = int(input(\"Enter a positive integer n: \"))\n",
    "\n",
    "total_sum = 0\n",
    "for i in range(1, n + 1):\n",
    "    total_sum += i\n",
    "\n",
    "print(f\"Sum from 1 to {n} = {total_sum}\")"
   ]
  },
  {
   "cell_type": "markdown",
   "metadata": {
    "cell_id": "00010-7e5952bc-a05b-441d-af41-7799925b06c8",
    "deepnote_cell_type": "markdown",
    "tags": []
   },
   "source": [
    "Alternatively, we could use the formula $$1+2+3+...+n = \\frac{n(n+1)}{2}$$. Check to see our for loop returns the value obtained from the formula. Print a Boolean answer."
   ]
  },
  {
   "cell_type": "code",
   "execution_count": 7,
   "metadata": {
    "cell_id": "00011-b8b03db6-14c8-4fa2-9053-16bc5c8dc793",
    "deepnote_cell_type": "code",
    "deepnote_to_be_reexecuted": false,
    "execution_millis": 4634,
    "execution_start": 1624626259471,
    "source_hash": "35d99a26",
    "tags": []
   },
   "outputs": [
    {
     "name": "stdout",
     "output_type": "stream",
     "text": [
      "For loop result: 210\n",
      "Formula result: 210\n",
      "Results match: True\n"
     ]
    }
   ],
   "source": [
    "try:\n",
    "    n\n",
    "except NameError:\n",
    "    n = int(input(\"Enter the same positive integer n: \"))\n",
    "\n",
    "formula_result = n * (n + 1) // 2\n",
    "\n",
    "loop_result = 0\n",
    "for i in range(1, n + 1):\n",
    "    loop_result += i\n",
    "\n",
    "print(f\"For loop result: {loop_result}\")\n",
    "print(f\"Formula result: {formula_result}\")\n",
    "print(f\"Results match: {loop_result == formula_result}\")"
   ]
  },
  {
   "cell_type": "markdown",
   "metadata": {
    "cell_id": "00012-260a1fd2-b9b3-4bae-bf0d-62171ddc35e0",
    "deepnote_cell_type": "markdown",
    "tags": []
   },
   "source": [
    "## Exercise 3: While Loops, Reverse A Given Number\n",
    "\n",
    "Prompt the user to input a positive integer number and reverse the number. For example: $$ 257864 \\rightarrow 468752 $$ \n",
    "\n",
    "(Hint: 257864 % 10 = 4)"
   ]
  },
  {
   "cell_type": "code",
   "execution_count": 8,
   "metadata": {},
   "outputs": [
    {
     "name": "stdout",
     "output_type": "stream",
     "text": [
      "Original number: 5021930123\n",
      "Reversed number: 3210391205\n"
     ]
    }
   ],
   "source": [
    "number = int(input(\"Enter a positive integer to reverse: \"))\n",
    "original_number = number  \n",
    "\n",
    "reversed_number = 0\n",
    "\n",
    "while number > 0:\n",
    "    digit = number % 10\n",
    "    reversed_number = reversed_number * 10 + digit\n",
    "    number = number // 10\n",
    "\n",
    "print(f\"Original number: {original_number}\")\n",
    "print(f\"Reversed number: {reversed_number}\")"
   ]
  },
  {
   "cell_type": "markdown",
   "metadata": {
    "cell_id": "00014-28951a3c-5d31-4939-b230-caba0222b9fd",
    "deepnote_cell_type": "markdown",
    "tags": []
   },
   "source": [
    "## Exercise 4: List Comprehensions\n",
    "\n",
    "Create a list of all the even numbers from 0 $\\rightarrow$ 1000 that are not divisible by 4."
   ]
  },
  {
   "cell_type": "code",
   "execution_count": null,
   "metadata": {
    "cell_id": "00015-b0fe9d20-d77a-4ab0-a3ae-6e0453f629b6",
    "deepnote_cell_type": "code",
    "deepnote_to_be_reexecuted": false,
    "execution_millis": 1,
    "execution_start": 1624887079369,
    "source_hash": "a665de46",
    "tags": []
   },
   "outputs": [
    {
     "name": "stdout",
     "output_type": "stream",
     "text": [
      "Even numbers from 0 to 1000 that are NOT divisible by 4: \n",
      "[2, 6, 10, 14, 18, 22, 26, 30, 34, 38, 42, 46, 50, 54, 58, 62, 66, 70, 74, 78, 82, 86, 90, 94, 98, 102, 106, 110, 114, 118, 122, 126, 130, 134, 138, 142, 146, 150, 154, 158, 162, 166, 170, 174, 178, 182, 186, 190, 194, 198, 202, 206, 210, 214, 218, 222, 226, 230, 234, 238, 242, 246, 250, 254, 258, 262, 266, 270, 274, 278, 282, 286, 290, 294, 298, 302, 306, 310, 314, 318, 322, 326, 330, 334, 338, 342, 346, 350, 354, 358, 362, 366, 370, 374, 378, 382, 386, 390, 394, 398, 402, 406, 410, 414, 418, 422, 426, 430, 434, 438, 442, 446, 450, 454, 458, 462, 466, 470, 474, 478, 482, 486, 490, 494, 498, 502, 506, 510, 514, 518, 522, 526, 530, 534, 538, 542, 546, 550, 554, 558, 562, 566, 570, 574, 578, 582, 586, 590, 594, 598, 602, 606, 610, 614, 618, 622, 626, 630, 634, 638, 642, 646, 650, 654, 658, 662, 666, 670, 674, 678, 682, 686, 690, 694, 698, 702, 706, 710, 714, 718, 722, 726, 730, 734, 738, 742, 746, 750, 754, 758, 762, 766, 770, 774, 778, 782, 786, 790, 794, 798, 802, 806, 810, 814, 818, 822, 826, 830, 834, 838, 842, 846, 850, 854, 858, 862, 866, 870, 874, 878, 882, 886, 890, 894, 898, 902, 906, 910, 914, 918, 922, 926, 930, 934, 938, 942, 946, 950, 954, 958, 962, 966, 970, 974, 978, 982, 986, 990, 994, 998]\n"
     ]
    }
   ],
   "source": [
    "even_not_div_by_4 = [x for x in range(0, 1001) if x % 2 == 0 and x % 4 != 0]\n",
    "print(f\"Even numbers from 0 to 1000 that are NOT divisible by 4: \\n{even_not_div_by_4}\")"
   ]
  },
  {
   "cell_type": "markdown",
   "metadata": {
    "cell_id": "00016-adf0bceb-b5d9-41e2-8fd5-9bd47d8f28b2",
    "deepnote_cell_type": "markdown",
    "tags": []
   },
   "source": [
    "A year is a leap year when it is divisible by 4, not divisible by 100 unless it is divisible by 400. Create a list containing leap years from year $1890 \\rightarrow 2050$"
   ]
  },
  {
   "cell_type": "code",
   "execution_count": null,
   "metadata": {
    "cell_id": "00016-8e7bef0f-7161-4ee9-b9c7-1b82145a6b93",
    "deepnote_cell_type": "code",
    "deepnote_to_be_reexecuted": false,
    "execution_millis": 7,
    "execution_start": 1624889493881,
    "source_hash": "14117288",
    "tags": []
   },
   "outputs": [
    {
     "name": "stdout",
     "output_type": "stream",
     "text": [
      "Leap years from 1890 to 2050: [1892, 1896, 1904, 1908, 1912, 1916, 1920, 1924, 1928, 1932, 1936, 1940, 1944, 1948, 1952, 1956, 1960, 1964, 1968, 1972, 1976, 1980, 1984, 1988, 1992, 1996, 2000, 2004, 2008, 2012, 2016, 2020, 2024, 2028, 2032, 2036, 2040, 2044, 2048]\n",
      "Total leap years: 39\n"
     ]
    }
   ],
   "source": [
    "leap_years = [year for year in range(1890, 2051) \n",
    "              if (year % 4 == 0 and year % 100 != 0) or (year % 400 == 0)]\n",
    "\n",
    "print(f\"Leap years from 1890 to 2050: \\n{leap_years}\")\n",
    "print(f\"Total leap years: {len(leap_years)}\")"
   ]
  },
  {
   "cell_type": "markdown",
   "metadata": {},
   "source": [
    "Make a list of all the primes less than 100."
   ]
  },
  {
   "cell_type": "code",
   "execution_count": 15,
   "metadata": {},
   "outputs": [
    {
     "name": "stdout",
     "output_type": "stream",
     "text": [
      "Prime numbers less than 100: \n",
      "[2, 3, 5, 7, 11, 13, 17, 19, 23, 29, 31, 37, 41, 43, 47, 53, 59, 61, 67, 71, 73, 79, 83, 89, 97]\n",
      "Total count: 25\n"
     ]
    }
   ],
   "source": [
    "def is_prime(n):\n",
    "    \"\"\"Check if a number is prime\"\"\"\n",
    "    if n < 2:\n",
    "        return False\n",
    "    if n == 2:\n",
    "        return True\n",
    "    if n % 2 == 0:\n",
    "        return False\n",
    "\n",
    "    for i in range(3, int(n**0.5) + 1, 2):\n",
    "        if n % i == 0:\n",
    "            return False\n",
    "    return True\n",
    "\n",
    "primes = [n for n in range(2, 100) if is_prime(n)]\n",
    "\n",
    "print(f\"Prime numbers less than 100: \\n{primes}\")\n",
    "print(f\"Total count: {len(primes)}\")\n"
   ]
  },
  {
   "cell_type": "markdown",
   "metadata": {
    "cell_id": "00016-6f5209e4-d25b-48a3-99ea-6198f23b1c4d",
    "deepnote_cell_type": "markdown",
    "tags": []
   },
   "source": [
    "## Exercise 5: DNA\n",
    "\n",
    "Read in the file named 'DNA.txt' and count the number of times the base C occurs. A DNA sequence contains bases A,C,G and T."
   ]
  },
  {
   "cell_type": "code",
   "execution_count": 16,
   "metadata": {
    "cell_id": "00021-039bb306-ff53-48ac-b7de-335f29e5b986",
    "deepnote_cell_type": "code",
    "deepnote_to_be_reexecuted": false,
    "execution_millis": 10,
    "execution_start": 1624999994006,
    "source_hash": "6b579f38",
    "tags": []
   },
   "outputs": [
    {
     "name": "stdout",
     "output_type": "stream",
     "text": [
      "DNA sequence length: 5651\n",
      "Number of C bases: 1452\n"
     ]
    }
   ],
   "source": [
    "with open('DNA.txt', 'r') as file:\n",
    "    dna_sequence = file.read().strip()\n",
    "\n",
    "    c_count = dna_sequence.count('C')\n",
    "\n",
    "    print(f\"DNA sequence length: {len(dna_sequence)}\")\n",
    "    print(f\"Number of C bases: {c_count}\")\n"
   ]
  },
  {
   "cell_type": "markdown",
   "metadata": {},
   "source": [
    "## Exercise 6: Collatz Conjecture\n",
    "If we take any positive integer and if it's even divide it by two and if it's odd multiply it by three and add one. Do this successivly again and again. Verify that we always get back to 1."
   ]
  },
  {
   "cell_type": "code",
   "execution_count": null,
   "metadata": {},
   "outputs": [
    {
     "name": "stdout",
     "output_type": "stream",
     "text": [
      "Collatz sequence starting from 10:\n",
      "Full sequence: [10, 5, 16, 8, 4, 2, 1]\n",
      "\n",
      "Testing conjecture for numbers 1-11:\n",
      "\n",
      "Sequence: [1]\n",
      "\n",
      "Sequence: [2, 1]\n",
      "\n",
      "Sequence: [3, 10, 5, 16, 8, 4, 2, 1]\n",
      "\n",
      "Sequence: [4, 2, 1]\n",
      "\n",
      "Sequence: [5, 16, 8, 4, 2, 1]\n",
      "\n",
      "Sequence: [6, 3, 10, 5, 16, 8, 4, 2, 1]\n",
      "\n",
      "Sequence: [7, 22, 11, 34, 17, 52, 26, 13, 40, 20, 10, 5, 16, 8, 4, 2, 1]\n",
      "\n",
      "Sequence: [8, 4, 2, 1]\n",
      "\n",
      "Sequence: [9, 28, 14, 7, 22, 11, 34, 17, 52, 26, 13, 40, 20, 10, 5, 16, 8, 4, 2, 1]\n",
      "\n",
      "Sequence: [10, 5, 16, 8, 4, 2, 1]\n"
     ]
    }
   ],
   "source": [
    "def collatz_sequence(n):\n",
    "    \"\"\"Generate Collatz sequence starting from n\"\"\"\n",
    "    sequence = [n]\n",
    "    while n != 1:\n",
    "        if n % 2 == 0:\n",
    "            n = n // 2  \n",
    "        else:\n",
    "            n = 3 * n + 1  \n",
    "        sequence.append(n)\n",
    "    return sequence\n",
    "\n",
    "start_number = int(input(\"Enter a positive integer to test Collatz conjecture: \"))\n",
    "\n",
    "sequence = collatz_sequence(start_number)\n",
    "\n",
    "print(f\"Collatz sequence starting from {start_number}:\")\n",
    "print(f\"Full sequence: {sequence}\")\n",
    "\n",
    "print(f\"\\nTesting conjecture for numbers 1-10:\")\n",
    "for i in range(1, 11):\n",
    "    seq = collatz_sequence(i)\n",
    "    print(f\"\\nSequence: {seq}\")"
   ]
  },
  {
   "cell_type": "markdown",
   "metadata": {},
   "source": [
    "## Exercise 7: Fizz Buzz\n",
    "Print out numbers in order. Every time there is a multiple of 3 print 'Fizz' instead. Every time there is a multiple of 5 print 'Buzz'. Every time there is both print 'Fizz Buzz'."
   ]
  },
  {
   "cell_type": "code",
   "execution_count": 26,
   "metadata": {},
   "outputs": [
    {
     "name": "stdout",
     "output_type": "stream",
     "text": [
      "Fizz\n",
      "Buzz\n",
      "Fizz\n",
      "Fizz\n",
      "Buzz\n",
      "Fizz\n",
      "Fizz Buzz\n",
      "Fizz\n",
      "Buzz\n",
      "Fizz\n"
     ]
    }
   ],
   "source": [
    "end_number = int(input(\"Enter the end number for Fizz Buzz (e.g., 100): \"))\n",
    "\n",
    "for i in range(1, end_number + 1):\n",
    "    if i % 15 == 0: \n",
    "        print(\"Fizz Buzz\")\n",
    "    elif i % 3 == 0: \n",
    "        print(\"Fizz\")\n",
    "    elif i % 5 == 0: \n",
    "        print(\"Buzz\")\n",
    "    else:\n",
    "        continue"
   ]
  }
 ],
 "metadata": {
  "deepnote": {
   "is_reactive": false
  },
  "deepnote_execution_queue": [],
  "deepnote_notebook_id": "306c39d2-aca8-4e42-8856-f5e25ad02ff5",
  "kernelspec": {
   "display_name": "Python 3",
   "language": "python",
   "name": "python3"
  },
  "language_info": {
   "codemirror_mode": {
    "name": "ipython",
    "version": 3
   },
   "file_extension": ".py",
   "mimetype": "text/x-python",
   "name": "python",
   "nbconvert_exporter": "python",
   "pygments_lexer": "ipython3",
   "version": "3.10.0"
  }
 },
 "nbformat": 4,
 "nbformat_minor": 2
}
