{
 "cells": [
  {
   "cell_type": "markdown",
   "metadata": {},
   "source": [
    "# Tutorial"
   ]
  },
  {
   "cell_type": "markdown",
   "metadata": {},
   "source": [
    "## Excercise 1: Python as a Calculator\n",
    "Let us introduce the following constants\n",
    "\n",
    "<center>\n",
    "\n",
    "$h \\approx 6.62607015 \\times 10^{-34}$ J/Hz\n",
    "\n",
    "$c = 299792458$ m/s\n",
    "\n",
    "$\\pi \\approx 3.14159265$\n",
    "\n",
    "$\\hbar = \\frac{h}{2\\pi}$\n",
    "\n",
    "$e \\approx 1.60217663 \\times 10^{-19} $ C \n",
    "\n",
    "$m_e \\approx 9.10938370 \\times 10^{-31}$ kg\n",
    "\n",
    "$\\varepsilon_0 \\approx 8.85418781\\times 10^{-12}$ F/m\n",
    "\n",
    "</center>\n",
    "\n",
    "<img src=\"images/calculator.png\" alt=\"two dice\" width=\"200\"/>\n",
    "\n",
    "Save them in python as variables"
   ]
  },
  {
   "cell_type": "code",
   "execution_count": 2,
   "metadata": {
    "cell_id": "00016-a1c9d0f3-4e74-49fc-95a7-d64f44672005",
    "deepnote_cell_type": "code",
    "deepnote_to_be_reexecuted": false,
    "execution_millis": 22,
    "execution_start": 1624957808703,
    "source_hash": "fe255d1d",
    "tags": []
   },
   "outputs": [],
   "source": [
    "h = 6.62607015e-34\n",
    "c = 299792458\n",
    "pi = 3.14159265359\n",
    "hbar = h/(2 * pi)\n",
    "e = 1.602176634e-19\n",
    "me = 9.10938370e-31\n",
    "ep0 = 8.85418781e-12\n",
    "alpha = 1/137.035999084"
   ]
  },
  {
   "cell_type": "markdown",
   "metadata": {},
   "source": [
    "Put them in a data structure. \n",
    "\n",
    "*Think about what might be best...*"
   ]
  },
  {
   "cell_type": "code",
   "execution_count": 7,
   "metadata": {},
   "outputs": [],
   "source": [
    "physical_constants = {\n",
    "    \"planck_constant\": {\n",
    "        \"symbol\": \"h\",\n",
    "        \"value\": 6.62607015e-34,\n",
    "    },\n",
    "    \"speed_of_light\": {\n",
    "        \"symbol\": \"c\",\n",
    "        \"value\": 299_792_458,\n",
    "    },\n",
    "    \"pi\": {\n",
    "        \"symbol\": \"π\",\n",
    "        \"value\": 3.14159265359,\n",
    "    },\n",
    "    \"reduced_planck_constant\": {\n",
    "        \"symbol\": \"h bar\",\n",
    "        \"value\": 6.62607015e-34 / (2 * 3.14159265359),\n",
    "    },\n",
    "    \"elementary_charge\": {\n",
    "        \"symbol\": \"e\",\n",
    "        \"value\": 1.602176634e-19,\n",
    "    },\n",
    "    \"electron_mass\": {\n",
    "        \"symbol\": \"mass_e\",\n",
    "        \"value\": 9.10938370e-31,\n",
    "    },\n",
    "    \"vacuum_permittivity\": {\n",
    "        \"symbol\": \"epsilon_0\",\n",
    "        \"value\": 8.85418781e-12,\n",
    "    },\n",
    "    \"fine_structure_constant\": {\n",
    "        \"symbol\": \"alpha\",\n",
    "        \"value\": 1 / 137.035999084,\n",
    "    }\n",
    "}\n"
   ]
  },
  {
   "cell_type": "markdown",
   "metadata": {},
   "source": [
    "Check that this in fact works."
   ]
  },
  {
   "cell_type": "code",
   "execution_count": 8,
   "metadata": {},
   "outputs": [
    {
     "name": "stdout",
     "output_type": "stream",
     "text": [
      "dict_keys(['planck_constant', 'speed_of_light', 'pi', 'reduced_planck_constant', 'elementary_charge', 'electron_mass', 'vacuum_permittivity', 'fine_structure_constant'])\n",
      "dict_values([{'symbol': 'h', 'value': 6.62607015e-34}, {'symbol': 'c', 'value': 299792458}, {'symbol': 'π', 'value': 3.14159265359}, {'symbol': 'h bar', 'value': 1.054571817646087e-34}, {'symbol': 'e', 'value': 1.602176634e-19}, {'symbol': 'mₑ', 'value': 9.1093837e-31}, {'symbol': 'ε₀', 'value': 8.85418781e-12}, {'symbol': 'α', 'value': 0.0072973525692838015}])\n",
      "6.62607015e-34\n"
     ]
    }
   ],
   "source": [
    "print(physical_constants.keys())\n",
    "print(physical_constants.values())\n",
    "print(physical_constants[\"planck_constant\"][\"value\"])"
   ]
  },
  {
   "cell_type": "markdown",
   "metadata": {},
   "source": [
    "Use these to calculate the fine structure constant,\n",
    "$$\\alpha = \\frac{1}{4 \\pi \\varepsilon_0} \\frac{e^2}{\\hbar c}$$"
   ]
  },
  {
   "cell_type": "code",
   "execution_count": 10,
   "metadata": {},
   "outputs": [
    {
     "name": "stdout",
     "output_type": "stream",
     "text": [
      "0.007297352571585705\n"
     ]
    }
   ],
   "source": [
    "alpha = physical_constants['elementary_charge']['value'] ** 2 / \\\n",
    "(4 * physical_constants['pi']['value'] * physical_constants['vacuum_permittivity']['value'] * physical_constants['reduced_planck_constant']['value'] * physical_constants['speed_of_light']['value'])\n",
    "print(alpha)"
   ]
  },
  {
   "cell_type": "markdown",
   "metadata": {},
   "source": [
    "## Exercise 2: Nested Lists and Matrices\n",
    "\n",
    "Take the matrix\n",
    "\n",
    "$$A = \\begin{bmatrix}\n",
    "3.14 & 42 \\\\ 2.71&11\n",
    "\\end{bmatrix}$$\n",
    "\n",
    "Using nested lists as a matrix representation, find and print it's determinant, then find and print it's inverse."
   ]
  },
  {
   "cell_type": "code",
   "execution_count": 13,
   "metadata": {},
   "outputs": [
    {
     "name": "stdout",
     "output_type": "stream",
     "text": [
      "det = -79.28\n",
      "inverse = [[-0.13874873864783047, 0.5297679112008072], [0.03418264379414732, -0.03960645812310797]]\n"
     ]
    }
   ],
   "source": [
    "A = [[3.14, 42], [2.71, 11]]\n",
    "det = A[0][0] * A[1][1] - A[0][1] * A[1][0]\n",
    "print(\"det =\", det)\n",
    "\n",
    "inv = [\n",
    "    [ A[1][1] / det, -A[0][1] / det ],\n",
    "    [ -A[1][0] / det, A[0][0] / det ]\n",
    "]\n",
    "print(\"inverse =\", inv)\n"
   ]
  },
  {
   "cell_type": "markdown",
   "metadata": {},
   "source": [
    "## Exercise 3: What is True and/or False?\n",
    "Discuss and think about the following statements and see if you can predict what will happen.\n",
    "\n",
    "First we will start with casting numbers to Boolean values.\n",
    "- ``` bool(0) ```\n",
    "- ``` bool(1) ```\n",
    "- ``` bool(0.0) ```\n",
    "- ``` bool(1.0) ```\n",
    "- ``` bool(24) ```\n",
    "- ``` bool(-76.2) ```"
   ]
  },
  {
   "cell_type": "code",
   "execution_count": 16,
   "metadata": {},
   "outputs": [
    {
     "name": "stdout",
     "output_type": "stream",
     "text": [
      "False\n",
      "True\n",
      "False\n",
      "True\n",
      "True\n",
      "True\n"
     ]
    }
   ],
   "source": [
    "print(bool(0))\n",
    "print(bool(1))\n",
    "print(bool(0.0))\n",
    "print(bool(1.0))\n",
    "print(bool(24))\n",
    "print(bool(-76.2))"
   ]
  },
  {
   "cell_type": "markdown",
   "metadata": {},
   "source": [
    "We can do the same thing with strings.\n",
    "- ``` bool('') ```\n",
    "- ``` bool('hello') ```"
   ]
  },
  {
   "cell_type": "code",
   "execution_count": 17,
   "metadata": {},
   "outputs": [
    {
     "name": "stdout",
     "output_type": "stream",
     "text": [
      "False\n",
      "True\n"
     ]
    }
   ],
   "source": [
    "print(bool(''))\n",
    "print(bool('hello'))"
   ]
  },
  {
   "cell_type": "markdown",
   "metadata": {},
   "source": [
    "We can cast data structures into Boolean.\n",
    "- ``` bool([]) ```\n",
    "- ``` bool({}) ```\n",
    "- ``` bool() ```\n",
    "- ``` bool((1)) ```\n",
    "- ``` bool([5,6,1]) ```\n",
    "- ``` bool({'hello',2.5,9}) ```\n",
    "- ``` bool({}) ```"
   ]
  },
  {
   "cell_type": "code",
   "execution_count": 18,
   "metadata": {},
   "outputs": [
    {
     "name": "stdout",
     "output_type": "stream",
     "text": [
      "False\n",
      "False\n",
      "False\n",
      "True\n",
      "True\n",
      "True\n"
     ]
    }
   ],
   "source": [
    "print(bool([]))\n",
    "print(bool({}))\n",
    "print(bool())\n",
    "print(bool((1)))\n",
    "print(bool([5,6,1]))\n",
    "print(bool({'hello',2.5,9}))"
   ]
  },
  {
   "cell_type": "markdown",
   "metadata": {},
   "source": [
    "Can we cast `None`?\n",
    "- ``` bool(None) ```"
   ]
  },
  {
   "cell_type": "code",
   "execution_count": 19,
   "metadata": {},
   "outputs": [
    {
     "name": "stdout",
     "output_type": "stream",
     "text": [
      "False\n"
     ]
    }
   ],
   "source": [
    "print(bool(None))"
   ]
  },
  {
   "cell_type": "markdown",
   "metadata": {},
   "source": [
    "When we use `not` it casts the proceeding value into boolean.\n",
    "- ``` not True ```\n",
    "- ``` not False ```\n",
    "- ``` not 1 ```\n",
    "- ``` not 0.0 ```\n",
    "- ``` not 72 ```\n",
    "- ``` not -17.3 ```\n",
    "- ``` not '' ```\n",
    "- ``` not \"hi\" ```\n",
    "- ``` not () ```\n",
    "- ``` not None ```"
   ]
  },
  {
   "cell_type": "code",
   "execution_count": 20,
   "metadata": {},
   "outputs": [
    {
     "name": "stdout",
     "output_type": "stream",
     "text": [
      "False\n",
      "True\n",
      "False\n",
      "True\n",
      "False\n",
      "False\n",
      "True\n",
      "False\n",
      "True\n",
      "True\n"
     ]
    }
   ],
   "source": [
    "print(not True)\n",
    "print(not False)\n",
    "print(not 1)\n",
    "print(not 0.0)\n",
    "print(not 72)\n",
    "print(not -17.3)\n",
    "print(not '')\n",
    "print(not \"hi\")\n",
    "print(not ())\n",
    "print(not None)"
   ]
  },
  {
   "cell_type": "markdown",
   "metadata": {},
   "source": [
    "And we can use two `not`s\n",
    "- ```not not True```\n",
    "- ```not not False```\n",
    "- ```not not {2,4}```"
   ]
  },
  {
   "cell_type": "code",
   "execution_count": 21,
   "metadata": {},
   "outputs": [
    {
     "name": "stdout",
     "output_type": "stream",
     "text": [
      "True\n",
      "False\n",
      "True\n"
     ]
    }
   ],
   "source": [
    "print(not not True)\n",
    "print(not not False)\n",
    "print(not not {2,4})"
   ]
  },
  {
   "cell_type": "markdown",
   "metadata": {},
   "source": [
    "We will move on and look at `and`.\n",
    "- ```True and True```\n",
    "- ```True and False```\n",
    "- ```False and True```\n",
    "- ```False and False```"
   ]
  },
  {
   "cell_type": "code",
   "execution_count": 22,
   "metadata": {},
   "outputs": [
    {
     "name": "stdout",
     "output_type": "stream",
     "text": [
      "True\n",
      "False\n",
      "False\n",
      "False\n"
     ]
    }
   ],
   "source": [
    "print(True and True)\n",
    "print(True and False)\n",
    "print(False and True)\n",
    "print(False and False)"
   ]
  },
  {
   "cell_type": "markdown",
   "metadata": {},
   "source": [
    "But what happens when we using things that aren't Boolean?\n",
    "- ```False and 'hello'```\n",
    "- ```'hello' and False```\n",
    "- ```'hello' and True```\n",
    "- ```True and 'hello'```"
   ]
  },
  {
   "cell_type": "code",
   "execution_count": 23,
   "metadata": {},
   "outputs": [
    {
     "name": "stdout",
     "output_type": "stream",
     "text": [
      "False\n",
      "False\n",
      "True\n",
      "hello\n"
     ]
    }
   ],
   "source": [
    "print(False and 'hello')\n",
    "print('hello' and False)\n",
    "print('hello' and True)\n",
    "print(True and 'hello')"
   ]
  },
  {
   "cell_type": "markdown",
   "metadata": {},
   "source": [
    "That's a little strange... Lets see what else we can do!\n",
    "- ```None and {}```\n",
    "- ```'' and True```\n",
    "- ```25 and {25}```\n",
    "- ```{0} and 0```"
   ]
  },
  {
   "cell_type": "code",
   "execution_count": 24,
   "metadata": {},
   "outputs": [
    {
     "name": "stdout",
     "output_type": "stream",
     "text": [
      "None\n",
      "\n",
      "{25}\n",
      "0\n"
     ]
    }
   ],
   "source": [
    "print(None and {})\n",
    "print('' and True)\n",
    "print(25 and {25})\n",
    "print({0} and 0)"
   ]
  },
  {
   "cell_type": "markdown",
   "metadata": {},
   "source": [
    "Lets try with `or`.\n",
    "- ```None or {}```\n",
    "- ```'' or True```\n",
    "- ```25 or {25}```\n",
    "- ```{0} or 0```"
   ]
  },
  {
   "cell_type": "code",
   "execution_count": 25,
   "metadata": {},
   "outputs": [
    {
     "name": "stdout",
     "output_type": "stream",
     "text": [
      "{}\n",
      "True\n",
      "25\n",
      "{0}\n"
     ]
    }
   ],
   "source": [
    "print(None or {})\n",
    "print('' or True)\n",
    "print(25 or {25})\n",
    "print({0} or 0)"
   ]
  },
  {
   "cell_type": "markdown",
   "metadata": {},
   "source": [
    "Finally, we can also play with operator presidence.\n",
    "- ```not (True or False) or 'hello'```\n",
    "- ```'first' and 'second' or False```\n",
    "- ```False or not None and 1+0*2-1```\n",
    "- ```(0) or not 0```\n",
    "- ```(0,) or not 0```"
   ]
  },
  {
   "cell_type": "code",
   "execution_count": 26,
   "metadata": {},
   "outputs": [
    {
     "name": "stdout",
     "output_type": "stream",
     "text": [
      "hello\n",
      "second\n",
      "0\n",
      "True\n",
      "(0,)\n"
     ]
    }
   ],
   "source": [
    "print(not (True or False) or 'hello')\n",
    "print('first' and 'second' or False)\n",
    "print(False or not None and 1+0*2-1)\n",
    "print((0) or not 0)\n",
    "print((0,) or not 0)"
   ]
  },
  {
   "cell_type": "markdown",
   "metadata": {},
   "source": [
    "## Exercise 4: Periodic Function\n",
    "Observe the following function, used in the famous Schor's algorithm.\n",
    "$$ f(x) = a^x mod N$$\n",
    "This function is periodic, with $r$ being the smallest(non-zero) integer such that\n",
    "$$ a^r mod N = 1$$\n",
    "Let $a=2$ and $N=31$. \n",
    "Create a list that contains the values of this function for $x=0,1,...,10.$\n",
    "<img src=\"images/Shor's_algorithm.png\" alt=\"two dice\" width=\"700\"/>"
   ]
  },
  {
   "cell_type": "code",
   "execution_count": 14,
   "metadata": {},
   "outputs": [
    {
     "name": "stdout",
     "output_type": "stream",
     "text": [
      "[1, 2, 4, 8, 16, 1, 2, 4, 8, 16, 1]\n"
     ]
    }
   ],
   "source": [
    "List = [] #Creating an empty list\n",
    "\n",
    "List.append((2**0)%31)\n",
    "List.append((2**1)%31)\n",
    "List.append((2**2)%31)\n",
    "List.append((2**3)%31)\n",
    "List.append((2**4)%31)\n",
    "List.append((2**5)%31)\n",
    "List.append((2**6)%31)\n",
    "List.append((2**7)%31)\n",
    "List.append((2**8)%31)\n",
    "List.append((2**9)%31)\n",
    "List.append((2**10)%31)\n",
    "\n",
    "print(List)"
   ]
  },
  {
   "cell_type": "markdown",
   "metadata": {},
   "source": [
    "Using this list or otherwise, observe and print the value of r."
   ]
  },
  {
   "cell_type": "code",
   "execution_count": 29,
   "metadata": {},
   "outputs": [
    {
     "name": "stdout",
     "output_type": "stream",
     "text": [
      "The period r = 5\n",
      "1\n"
     ]
    }
   ],
   "source": [
    "for i, value in enumerate(List):\n",
    "    if value == 1 and i > 0:  \n",
    "        r = i\n",
    "        break\n",
    "\n",
    "print(f\"The period r = {r}\")\n",
    "print((2**r) % 31)"
   ]
  },
  {
   "cell_type": "markdown",
   "metadata": {},
   "source": [
    "Now convert this list to a set and print it to observe the values taken by the function in a single period."
   ]
  },
  {
   "cell_type": "code",
   "execution_count": 30,
   "metadata": {},
   "outputs": [
    {
     "name": "stdout",
     "output_type": "stream",
     "text": [
      "Values in one period: {1, 2, 4, 8, 16}\n",
      "Number of unique values: 5\n"
     ]
    }
   ],
   "source": [
    "unique_values = set(List)\n",
    "print(\"Values in one period:\", unique_values)\n",
    "print(\"Number of unique values:\", len(unique_values))"
   ]
  },
  {
   "cell_type": "code",
   "execution_count": null,
   "metadata": {},
   "outputs": [],
   "source": []
  }
 ],
 "metadata": {
  "deepnote": {
   "is_reactive": false
  },
  "deepnote_execution_queue": [],
  "deepnote_notebook_id": "eb07da20-6aaf-4886-88b4-49188e0c1ab1",
  "kernelspec": {
   "display_name": "Python 3",
   "language": "python",
   "name": "python3"
  },
  "language_info": {
   "codemirror_mode": {
    "name": "ipython",
    "version": 3
   },
   "file_extension": ".py",
   "mimetype": "text/x-python",
   "name": "python",
   "nbconvert_exporter": "python",
   "pygments_lexer": "ipython3",
   "version": "3.10.0"
  }
 },
 "nbformat": 4,
 "nbformat_minor": 2
}
